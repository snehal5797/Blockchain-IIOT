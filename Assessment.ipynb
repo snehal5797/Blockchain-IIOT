{
  "nbformat": 4,
  "nbformat_minor": 0,
  "metadata": {
    "colab": {
      "provenance": [],
      "include_colab_link": true
    },
    "kernelspec": {
      "name": "python3",
      "display_name": "Python 3"
    },
    "language_info": {
      "name": "python"
    }
  },
  "cells": [
    {
      "cell_type": "markdown",
      "metadata": {
        "id": "view-in-github",
        "colab_type": "text"
      },
      "source": [
        "<a href=\"https://colab.research.google.com/github/snehal5797/Blockchain-IIOT/blob/master/Assessment.ipynb\" target=\"_parent\"><img src=\"https://colab.research.google.com/assets/colab-badge.svg\" alt=\"Open In Colab\"/></a>"
      ]
    },
    {
      "cell_type": "code",
      "execution_count": 1,
      "metadata": {
        "id": "wzYi13gvvhgR"
      },
      "outputs": [],
      "source": [
        "import pandas as pd\n",
        "\n",
        "SA_Price_df = pd.read_csv('SA_Price.csv')\n",
        "# SA_Price_df = SA_Price_df.rename(columns={\"Dates\": \"date\"})\n",
        "Para_TMAX_df = pd.read_excel('Parafield_TMAX.xlsx')\n",
        "# Para_TMAX_df = Para_TMAX_df.rename(columns={\"Date\": \"date\"})\n",
        "# print(SA_Price_df.to_string())\n",
        "# VAN_PAYOUT_TYPE=\"Vanila_Payout\"\n",
        "# CON_PAYOUT_TYPE=\"Vanila_Payout\""
      ]
    },
    {
      "cell_type": "code",
      "source": [
        "SA_Price_df. columns. values"
      ],
      "metadata": {
        "colab": {
          "base_uri": "https://localhost:8080/"
        },
        "id": "j-EV78NowAoL",
        "outputId": "0f132e75-bfb5-48f4-86ff-8cb3dec6affe"
      },
      "execution_count": 2,
      "outputs": [
        {
          "output_type": "execute_result",
          "data": {
            "text/plain": [
              "array(['Dates', 'Price'], dtype=object)"
            ]
          },
          "metadata": {},
          "execution_count": 2
        }
      ]
    },
    {
      "cell_type": "code",
      "source": [
        "Para_TMAX_df. columns. values"
      ],
      "metadata": {
        "colab": {
          "base_uri": "https://localhost:8080/"
        },
        "id": "qWQi8VFgwEUn",
        "outputId": "09978a8f-a4cb-42ff-ee7c-2efb702ff5d6"
      },
      "execution_count": 3,
      "outputs": [
        {
          "output_type": "execute_result",
          "data": {
            "text/plain": [
              "array(['Date', 'Tmax'], dtype=object)"
            ]
          },
          "metadata": {},
          "execution_count": 3
        }
      ]
    },
    {
      "cell_type": "code",
      "source": [
        "#preprocessing of data"
      ],
      "metadata": {
        "id": "Wm8zft53C42M"
      },
      "execution_count": 4,
      "outputs": []
    },
    {
      "cell_type": "code",
      "source": [
        "# from tqdm import tqdm\n",
        "# tqdm.pandas()\n",
        "# SA_Price_df['new_date'] = tqdm(SA_Price_df['Dates'].progress_apply(lambda x: pd.to_datetime(x).date()))"
      ],
      "metadata": {
        "id": "8YhzB11rnDXB"
      },
      "execution_count": 5,
      "outputs": []
    },
    {
      "cell_type": "code",
      "source": [
        "SA_Price_df['date'] = pd.to_datetime(SA_Price_df['Dates']).dt.date\n",
        "\n"
      ],
      "metadata": {
        "id": "RlBob2U4C5EA"
      },
      "execution_count": 6,
      "outputs": []
    },
    {
      "cell_type": "code",
      "source": [
        "SA_Price_df.head()"
      ],
      "metadata": {
        "colab": {
          "base_uri": "https://localhost:8080/",
          "height": 206
        },
        "id": "4hpf55vB-ZVw",
        "outputId": "c10958cc-ba75-4ed6-8c6f-48748f0b7c90"
      },
      "execution_count": 7,
      "outputs": [
        {
          "output_type": "execute_result",
          "data": {
            "text/plain": [
              "                  Dates    Price        date\n",
              "0  07-Dec-1998 01:40:00   0.0010  1998-12-07\n",
              "1  07-Dec-1998 01:45:00   0.0010  1998-12-07\n",
              "2  07-Dec-1998 01:50:00  16.8672  1998-12-07\n",
              "3  07-Dec-1998 01:55:00  24.4500  1998-12-07\n",
              "4  07-Dec-1998 02:00:00  25.3668  1998-12-07"
            ],
            "text/html": [
              "\n",
              "  <div id=\"df-71cd1f34-e0a9-4e51-98da-0531ba0c5fc5\">\n",
              "    <div class=\"colab-df-container\">\n",
              "      <div>\n",
              "<style scoped>\n",
              "    .dataframe tbody tr th:only-of-type {\n",
              "        vertical-align: middle;\n",
              "    }\n",
              "\n",
              "    .dataframe tbody tr th {\n",
              "        vertical-align: top;\n",
              "    }\n",
              "\n",
              "    .dataframe thead th {\n",
              "        text-align: right;\n",
              "    }\n",
              "</style>\n",
              "<table border=\"1\" class=\"dataframe\">\n",
              "  <thead>\n",
              "    <tr style=\"text-align: right;\">\n",
              "      <th></th>\n",
              "      <th>Dates</th>\n",
              "      <th>Price</th>\n",
              "      <th>date</th>\n",
              "    </tr>\n",
              "  </thead>\n",
              "  <tbody>\n",
              "    <tr>\n",
              "      <th>0</th>\n",
              "      <td>07-Dec-1998 01:40:00</td>\n",
              "      <td>0.0010</td>\n",
              "      <td>1998-12-07</td>\n",
              "    </tr>\n",
              "    <tr>\n",
              "      <th>1</th>\n",
              "      <td>07-Dec-1998 01:45:00</td>\n",
              "      <td>0.0010</td>\n",
              "      <td>1998-12-07</td>\n",
              "    </tr>\n",
              "    <tr>\n",
              "      <th>2</th>\n",
              "      <td>07-Dec-1998 01:50:00</td>\n",
              "      <td>16.8672</td>\n",
              "      <td>1998-12-07</td>\n",
              "    </tr>\n",
              "    <tr>\n",
              "      <th>3</th>\n",
              "      <td>07-Dec-1998 01:55:00</td>\n",
              "      <td>24.4500</td>\n",
              "      <td>1998-12-07</td>\n",
              "    </tr>\n",
              "    <tr>\n",
              "      <th>4</th>\n",
              "      <td>07-Dec-1998 02:00:00</td>\n",
              "      <td>25.3668</td>\n",
              "      <td>1998-12-07</td>\n",
              "    </tr>\n",
              "  </tbody>\n",
              "</table>\n",
              "</div>\n",
              "      <button class=\"colab-df-convert\" onclick=\"convertToInteractive('df-71cd1f34-e0a9-4e51-98da-0531ba0c5fc5')\"\n",
              "              title=\"Convert this dataframe to an interactive table.\"\n",
              "              style=\"display:none;\">\n",
              "        \n",
              "  <svg xmlns=\"http://www.w3.org/2000/svg\" height=\"24px\"viewBox=\"0 0 24 24\"\n",
              "       width=\"24px\">\n",
              "    <path d=\"M0 0h24v24H0V0z\" fill=\"none\"/>\n",
              "    <path d=\"M18.56 5.44l.94 2.06.94-2.06 2.06-.94-2.06-.94-.94-2.06-.94 2.06-2.06.94zm-11 1L8.5 8.5l.94-2.06 2.06-.94-2.06-.94L8.5 2.5l-.94 2.06-2.06.94zm10 10l.94 2.06.94-2.06 2.06-.94-2.06-.94-.94-2.06-.94 2.06-2.06.94z\"/><path d=\"M17.41 7.96l-1.37-1.37c-.4-.4-.92-.59-1.43-.59-.52 0-1.04.2-1.43.59L10.3 9.45l-7.72 7.72c-.78.78-.78 2.05 0 2.83L4 21.41c.39.39.9.59 1.41.59.51 0 1.02-.2 1.41-.59l7.78-7.78 2.81-2.81c.8-.78.8-2.07 0-2.86zM5.41 20L4 18.59l7.72-7.72 1.47 1.35L5.41 20z\"/>\n",
              "  </svg>\n",
              "      </button>\n",
              "      \n",
              "  <style>\n",
              "    .colab-df-container {\n",
              "      display:flex;\n",
              "      flex-wrap:wrap;\n",
              "      gap: 12px;\n",
              "    }\n",
              "\n",
              "    .colab-df-convert {\n",
              "      background-color: #E8F0FE;\n",
              "      border: none;\n",
              "      border-radius: 50%;\n",
              "      cursor: pointer;\n",
              "      display: none;\n",
              "      fill: #1967D2;\n",
              "      height: 32px;\n",
              "      padding: 0 0 0 0;\n",
              "      width: 32px;\n",
              "    }\n",
              "\n",
              "    .colab-df-convert:hover {\n",
              "      background-color: #E2EBFA;\n",
              "      box-shadow: 0px 1px 2px rgba(60, 64, 67, 0.3), 0px 1px 3px 1px rgba(60, 64, 67, 0.15);\n",
              "      fill: #174EA6;\n",
              "    }\n",
              "\n",
              "    [theme=dark] .colab-df-convert {\n",
              "      background-color: #3B4455;\n",
              "      fill: #D2E3FC;\n",
              "    }\n",
              "\n",
              "    [theme=dark] .colab-df-convert:hover {\n",
              "      background-color: #434B5C;\n",
              "      box-shadow: 0px 1px 3px 1px rgba(0, 0, 0, 0.15);\n",
              "      filter: drop-shadow(0px 1px 2px rgba(0, 0, 0, 0.3));\n",
              "      fill: #FFFFFF;\n",
              "    }\n",
              "  </style>\n",
              "\n",
              "      <script>\n",
              "        const buttonEl =\n",
              "          document.querySelector('#df-71cd1f34-e0a9-4e51-98da-0531ba0c5fc5 button.colab-df-convert');\n",
              "        buttonEl.style.display =\n",
              "          google.colab.kernel.accessAllowed ? 'block' : 'none';\n",
              "\n",
              "        async function convertToInteractive(key) {\n",
              "          const element = document.querySelector('#df-71cd1f34-e0a9-4e51-98da-0531ba0c5fc5');\n",
              "          const dataTable =\n",
              "            await google.colab.kernel.invokeFunction('convertToInteractive',\n",
              "                                                     [key], {});\n",
              "          if (!dataTable) return;\n",
              "\n",
              "          const docLinkHtml = 'Like what you see? Visit the ' +\n",
              "            '<a target=\"_blank\" href=https://colab.research.google.com/notebooks/data_table.ipynb>data table notebook</a>'\n",
              "            + ' to learn more about interactive tables.';\n",
              "          element.innerHTML = '';\n",
              "          dataTable['output_type'] = 'display_data';\n",
              "          await google.colab.output.renderOutput(dataTable, element);\n",
              "          const docLink = document.createElement('div');\n",
              "          docLink.innerHTML = docLinkHtml;\n",
              "          element.appendChild(docLink);\n",
              "        }\n",
              "      </script>\n",
              "    </div>\n",
              "  </div>\n",
              "  "
            ]
          },
          "metadata": {},
          "execution_count": 7
        }
      ]
    },
    {
      "cell_type": "code",
      "source": [
        "SA_Price_df. columns. values"
      ],
      "metadata": {
        "colab": {
          "base_uri": "https://localhost:8080/"
        },
        "id": "PBXUFGANC5Hn",
        "outputId": "a94442d1-67ae-4747-ce4d-bf884cc226be"
      },
      "execution_count": 8,
      "outputs": [
        {
          "output_type": "execute_result",
          "data": {
            "text/plain": [
              "array(['Dates', 'Price', 'date'], dtype=object)"
            ]
          },
          "metadata": {},
          "execution_count": 8
        }
      ]
    },
    {
      "cell_type": "code",
      "source": [
        "Para_TMAX_df['date'] = pd.to_datetime(Para_TMAX_df['Date']).dt.date\n"
      ],
      "metadata": {
        "id": "Az6gSD9SC5Ke"
      },
      "execution_count": 9,
      "outputs": []
    },
    {
      "cell_type": "code",
      "source": [
        "# Perform an outer join on the \"date\" column\n",
        "merged_df = pd.merge(SA_Price_df, Para_TMAX_df, on='date', how='outer')\n",
        "\n",
        "merged_df.head()"
      ],
      "metadata": {
        "colab": {
          "base_uri": "https://localhost:8080/",
          "height": 206
        },
        "id": "tQr8Vy0OEgYT",
        "outputId": "9192861c-796d-45f3-f803-6cdf64232696"
      },
      "execution_count": 10,
      "outputs": [
        {
          "output_type": "execute_result",
          "data": {
            "text/plain": [
              "                  Dates    Price        date       Date  Tmax\n",
              "0  07-Dec-1998 01:40:00   0.0010  1998-12-07 1998-12-07  29.3\n",
              "1  07-Dec-1998 01:45:00   0.0010  1998-12-07 1998-12-07  29.3\n",
              "2  07-Dec-1998 01:50:00  16.8672  1998-12-07 1998-12-07  29.3\n",
              "3  07-Dec-1998 01:55:00  24.4500  1998-12-07 1998-12-07  29.3\n",
              "4  07-Dec-1998 02:00:00  25.3668  1998-12-07 1998-12-07  29.3"
            ],
            "text/html": [
              "\n",
              "  <div id=\"df-d728d340-6712-4b52-8e2b-241e038a207f\">\n",
              "    <div class=\"colab-df-container\">\n",
              "      <div>\n",
              "<style scoped>\n",
              "    .dataframe tbody tr th:only-of-type {\n",
              "        vertical-align: middle;\n",
              "    }\n",
              "\n",
              "    .dataframe tbody tr th {\n",
              "        vertical-align: top;\n",
              "    }\n",
              "\n",
              "    .dataframe thead th {\n",
              "        text-align: right;\n",
              "    }\n",
              "</style>\n",
              "<table border=\"1\" class=\"dataframe\">\n",
              "  <thead>\n",
              "    <tr style=\"text-align: right;\">\n",
              "      <th></th>\n",
              "      <th>Dates</th>\n",
              "      <th>Price</th>\n",
              "      <th>date</th>\n",
              "      <th>Date</th>\n",
              "      <th>Tmax</th>\n",
              "    </tr>\n",
              "  </thead>\n",
              "  <tbody>\n",
              "    <tr>\n",
              "      <th>0</th>\n",
              "      <td>07-Dec-1998 01:40:00</td>\n",
              "      <td>0.0010</td>\n",
              "      <td>1998-12-07</td>\n",
              "      <td>1998-12-07</td>\n",
              "      <td>29.3</td>\n",
              "    </tr>\n",
              "    <tr>\n",
              "      <th>1</th>\n",
              "      <td>07-Dec-1998 01:45:00</td>\n",
              "      <td>0.0010</td>\n",
              "      <td>1998-12-07</td>\n",
              "      <td>1998-12-07</td>\n",
              "      <td>29.3</td>\n",
              "    </tr>\n",
              "    <tr>\n",
              "      <th>2</th>\n",
              "      <td>07-Dec-1998 01:50:00</td>\n",
              "      <td>16.8672</td>\n",
              "      <td>1998-12-07</td>\n",
              "      <td>1998-12-07</td>\n",
              "      <td>29.3</td>\n",
              "    </tr>\n",
              "    <tr>\n",
              "      <th>3</th>\n",
              "      <td>07-Dec-1998 01:55:00</td>\n",
              "      <td>24.4500</td>\n",
              "      <td>1998-12-07</td>\n",
              "      <td>1998-12-07</td>\n",
              "      <td>29.3</td>\n",
              "    </tr>\n",
              "    <tr>\n",
              "      <th>4</th>\n",
              "      <td>07-Dec-1998 02:00:00</td>\n",
              "      <td>25.3668</td>\n",
              "      <td>1998-12-07</td>\n",
              "      <td>1998-12-07</td>\n",
              "      <td>29.3</td>\n",
              "    </tr>\n",
              "  </tbody>\n",
              "</table>\n",
              "</div>\n",
              "      <button class=\"colab-df-convert\" onclick=\"convertToInteractive('df-d728d340-6712-4b52-8e2b-241e038a207f')\"\n",
              "              title=\"Convert this dataframe to an interactive table.\"\n",
              "              style=\"display:none;\">\n",
              "        \n",
              "  <svg xmlns=\"http://www.w3.org/2000/svg\" height=\"24px\"viewBox=\"0 0 24 24\"\n",
              "       width=\"24px\">\n",
              "    <path d=\"M0 0h24v24H0V0z\" fill=\"none\"/>\n",
              "    <path d=\"M18.56 5.44l.94 2.06.94-2.06 2.06-.94-2.06-.94-.94-2.06-.94 2.06-2.06.94zm-11 1L8.5 8.5l.94-2.06 2.06-.94-2.06-.94L8.5 2.5l-.94 2.06-2.06.94zm10 10l.94 2.06.94-2.06 2.06-.94-2.06-.94-.94-2.06-.94 2.06-2.06.94z\"/><path d=\"M17.41 7.96l-1.37-1.37c-.4-.4-.92-.59-1.43-.59-.52 0-1.04.2-1.43.59L10.3 9.45l-7.72 7.72c-.78.78-.78 2.05 0 2.83L4 21.41c.39.39.9.59 1.41.59.51 0 1.02-.2 1.41-.59l7.78-7.78 2.81-2.81c.8-.78.8-2.07 0-2.86zM5.41 20L4 18.59l7.72-7.72 1.47 1.35L5.41 20z\"/>\n",
              "  </svg>\n",
              "      </button>\n",
              "      \n",
              "  <style>\n",
              "    .colab-df-container {\n",
              "      display:flex;\n",
              "      flex-wrap:wrap;\n",
              "      gap: 12px;\n",
              "    }\n",
              "\n",
              "    .colab-df-convert {\n",
              "      background-color: #E8F0FE;\n",
              "      border: none;\n",
              "      border-radius: 50%;\n",
              "      cursor: pointer;\n",
              "      display: none;\n",
              "      fill: #1967D2;\n",
              "      height: 32px;\n",
              "      padding: 0 0 0 0;\n",
              "      width: 32px;\n",
              "    }\n",
              "\n",
              "    .colab-df-convert:hover {\n",
              "      background-color: #E2EBFA;\n",
              "      box-shadow: 0px 1px 2px rgba(60, 64, 67, 0.3), 0px 1px 3px 1px rgba(60, 64, 67, 0.15);\n",
              "      fill: #174EA6;\n",
              "    }\n",
              "\n",
              "    [theme=dark] .colab-df-convert {\n",
              "      background-color: #3B4455;\n",
              "      fill: #D2E3FC;\n",
              "    }\n",
              "\n",
              "    [theme=dark] .colab-df-convert:hover {\n",
              "      background-color: #434B5C;\n",
              "      box-shadow: 0px 1px 3px 1px rgba(0, 0, 0, 0.15);\n",
              "      filter: drop-shadow(0px 1px 2px rgba(0, 0, 0, 0.3));\n",
              "      fill: #FFFFFF;\n",
              "    }\n",
              "  </style>\n",
              "\n",
              "      <script>\n",
              "        const buttonEl =\n",
              "          document.querySelector('#df-d728d340-6712-4b52-8e2b-241e038a207f button.colab-df-convert');\n",
              "        buttonEl.style.display =\n",
              "          google.colab.kernel.accessAllowed ? 'block' : 'none';\n",
              "\n",
              "        async function convertToInteractive(key) {\n",
              "          const element = document.querySelector('#df-d728d340-6712-4b52-8e2b-241e038a207f');\n",
              "          const dataTable =\n",
              "            await google.colab.kernel.invokeFunction('convertToInteractive',\n",
              "                                                     [key], {});\n",
              "          if (!dataTable) return;\n",
              "\n",
              "          const docLinkHtml = 'Like what you see? Visit the ' +\n",
              "            '<a target=\"_blank\" href=https://colab.research.google.com/notebooks/data_table.ipynb>data table notebook</a>'\n",
              "            + ' to learn more about interactive tables.';\n",
              "          element.innerHTML = '';\n",
              "          dataTable['output_type'] = 'display_data';\n",
              "          await google.colab.output.renderOutput(dataTable, element);\n",
              "          const docLink = document.createElement('div');\n",
              "          docLink.innerHTML = docLinkHtml;\n",
              "          element.appendChild(docLink);\n",
              "        }\n",
              "      </script>\n",
              "    </div>\n",
              "  </div>\n",
              "  "
            ]
          },
          "metadata": {},
          "execution_count": 10
        }
      ]
    },
    {
      "cell_type": "markdown",
      "source": [
        "##new way around"
      ],
      "metadata": {
        "id": "Q3Th1cgARb4O"
      }
    },
    {
      "cell_type": "code",
      "source": [
        "merged_df['Dates'] = pd.to_datetime(merged_df['Dates'], errors='coerce')"
      ],
      "metadata": {
        "id": "bZoi_Gb7RE6M"
      },
      "execution_count": 11,
      "outputs": []
    },
    {
      "cell_type": "code",
      "source": [
        "#merged_df = merged_df.drop(columns=['new_date'])\n",
        "#merged_df = merged_df.drop(columns=['Date'])\n",
        "#merged_df = merged_df.drop(columns=['Dates'])"
      ],
      "metadata": {
        "id": "q_J7KVBVv7wU"
      },
      "execution_count": 12,
      "outputs": []
    },
    {
      "cell_type": "markdown",
      "source": [
        "#Calculation :"
      ],
      "metadata": {
        "id": "IdvsSXbswv_6"
      }
    },
    {
      "cell_type": "code",
      "source": [
        "MW_Notional=100\n",
        "Power_Price_Strike=100\n",
        "Temperature=41"
      ],
      "metadata": {
        "id": "xbDIPmbfw6fi"
      },
      "execution_count": 13,
      "outputs": []
    },
    {
      "cell_type": "code",
      "source": [
        "from numpy import maximum"
      ],
      "metadata": {
        "id": "EIN9fXSjLSy6"
      },
      "execution_count": 14,
      "outputs": []
    },
    {
      "cell_type": "code",
      "source": [
        "merged_df[\"Final_price\"] = MW_Notional * 1/12 * maximum(0, merged_df[\"Price\"]-Power_Price_Strike)\n",
        "#merged_df['Dates'] = pd.to_datetime(merged_df['Dates'], errors='coerce')\n",
        "\n",
        "Normal = merged_df[merged_df[\"Dates\"].dt.quarter == 1]\n",
        "Normal[\"year\"] = Normal[\"Dates\"].dt.year\n",
        "\n",
        "# # Group the data by year and sum the payouts for each year\n",
        "Normal = Normal.groupby(\"year\").sum()[\"Final_price\"]"
      ],
      "metadata": {
        "colab": {
          "base_uri": "https://localhost:8080/"
        },
        "id": "q4NL8iCzFXSo",
        "outputId": "434eacfe-0874-4820-c168-416e26b5b596"
      },
      "execution_count": 15,
      "outputs": [
        {
          "output_type": "stream",
          "name": "stderr",
          "text": [
            "<ipython-input-15-0eeeeb7fef7a>:5: SettingWithCopyWarning: \n",
            "A value is trying to be set on a copy of a slice from a DataFrame.\n",
            "Try using .loc[row_indexer,col_indexer] = value instead\n",
            "\n",
            "See the caveats in the documentation: https://pandas.pydata.org/pandas-docs/stable/user_guide/indexing.html#returning-a-view-versus-a-copy\n",
            "  Normal[\"year\"] = Normal[\"Dates\"].dt.year\n"
          ]
        }
      ]
    },
    {
      "cell_type": "code",
      "source": [
        "Normal.head()"
      ],
      "metadata": {
        "colab": {
          "base_uri": "https://localhost:8080/"
        },
        "id": "uoSO9L8LICpr",
        "outputId": "f4106827-8343-4f3e-a417-810ce8f6052b"
      },
      "execution_count": 16,
      "outputs": [
        {
          "output_type": "execute_result",
          "data": {
            "text/plain": [
              "year\n",
              "1999    3.176967e+06\n",
              "2000    6.392693e+06\n",
              "2001    9.298490e+06\n",
              "2002    9.140873e+04\n",
              "2003    5.086377e+05\n",
              "Name: Final_price, dtype: float64"
            ]
          },
          "metadata": {},
          "execution_count": 16
        }
      ]
    },
    {
      "cell_type": "markdown",
      "source": [
        "##Calculate the Raw Payouts for Quanto"
      ],
      "metadata": {
        "id": "5UOz-0Zlx1ZA"
      }
    },
    {
      "cell_type": "code",
      "source": [
        "quanto = merged_df[merged_df[\"Tmax\"] > Temperature ]\n",
        "# quanto = quanto[quanto[\"Dates\"].dt.quarter == 1]\n",
        "\n",
        "# Add year column to the dataframe\n",
        "quanto[\"year\"] = quanto[\"Dates\"].dt.year\n",
        "\n",
        "# Group the data by year and sum the price for each year\n",
        "yearly_sum = quanto.groupby(\"year\").sum()[\"Final_price\"]\n",
        "\n",
        "print(yearly_sum)"
      ],
      "metadata": {
        "colab": {
          "base_uri": "https://localhost:8080/"
        },
        "id": "OxExtU9EzWoP",
        "outputId": "6eb54047-fd59-4292-9242-c0d5244a2433"
      },
      "execution_count": 17,
      "outputs": [
        {
          "output_type": "stream",
          "name": "stdout",
          "text": [
            "year\n",
            "1998.0    4.370545e+06\n",
            "1999.0    5.708216e+05\n",
            "2000.0    3.997208e+06\n",
            "2001.0    5.713555e+06\n",
            "2002.0    2.642797e+05\n",
            "2003.0    3.333317e+05\n",
            "2004.0    1.168486e+06\n",
            "2005.0    8.294653e+05\n",
            "2006.0    1.872926e+06\n",
            "2007.0    5.484567e+05\n",
            "2008.0    3.483695e+06\n",
            "2009.0    1.576342e+07\n",
            "2010.0    2.005521e+05\n",
            "2011.0    5.527752e+06\n",
            "2012.0    0.000000e+00\n",
            "2013.0    2.403734e+06\n",
            "2014.0    2.697570e+06\n",
            "2015.0    5.285323e+05\n",
            "2016.0    1.041000e+04\n",
            "2017.0    3.377079e+06\n",
            "2018.0    5.162264e+06\n",
            "2019.0    1.325302e+07\n",
            "2020.0    1.800499e+06\n",
            "2021.0    2.452148e+05\n",
            "2022.0    3.180499e+05\n",
            "Name: Final_price, dtype: float64\n"
          ]
        },
        {
          "output_type": "stream",
          "name": "stderr",
          "text": [
            "<ipython-input-17-825004870829>:5: SettingWithCopyWarning: \n",
            "A value is trying to be set on a copy of a slice from a DataFrame.\n",
            "Try using .loc[row_indexer,col_indexer] = value instead\n",
            "\n",
            "See the caveats in the documentation: https://pandas.pydata.org/pandas-docs/stable/user_guide/indexing.html#returning-a-view-versus-a-copy\n",
            "  quanto[\"year\"] = quanto[\"Dates\"].dt.year\n"
          ]
        }
      ]
    },
    {
      "cell_type": "code",
      "source": [
        "yearly_sum.head()"
      ],
      "metadata": {
        "id": "sfwQE_y3YGdk",
        "colab": {
          "base_uri": "https://localhost:8080/"
        },
        "outputId": "3cc1846b-fa6c-491a-d045-ea2393636f14"
      },
      "execution_count": 18,
      "outputs": [
        {
          "output_type": "execute_result",
          "data": {
            "text/plain": [
              "year\n",
              "1998.0    4.370545e+06\n",
              "1999.0    5.708216e+05\n",
              "2000.0    3.997208e+06\n",
              "2001.0    5.713555e+06\n",
              "2002.0    2.642797e+05\n",
              "Name: Final_price, dtype: float64"
            ]
          },
          "metadata": {},
          "execution_count": 18
        }
      ]
    },
    {
      "cell_type": "code",
      "source": [
        "import numpy as np\n"
      ],
      "metadata": {
        "id": "jdzwrPQhV9eU"
      },
      "execution_count": 29,
      "outputs": []
    },
    {
      "cell_type": "code",
      "source": [
        "print(np.array(yearly_sum.keys().tolist()))\n"
      ],
      "metadata": {
        "colab": {
          "base_uri": "https://localhost:8080/"
        },
        "id": "0ToVL2evQczA",
        "outputId": "c510c244-5444-44ba-f549-00525b8769cd"
      },
      "execution_count": 31,
      "outputs": [
        {
          "output_type": "stream",
          "name": "stdout",
          "text": [
            "[1998. 1999. 2000. 2001. 2002. 2003. 2004. 2005. 2006. 2007. 2008. 2009.\n",
            " 2010. 2011. 2012. 2013. 2014. 2015. 2016. 2017. 2018. 2019. 2020. 2021.\n",
            " 2022.]\n"
          ]
        }
      ]
    },
    {
      "cell_type": "code",
      "source": [
        "print(np.array(yearly_sum.values.tolist()))"
      ],
      "metadata": {
        "colab": {
          "base_uri": "https://localhost:8080/"
        },
        "id": "sBq2Dy7ZVqSu",
        "outputId": "db4417d6-0123-45c2-b180-64ab9763c7f1"
      },
      "execution_count": 33,
      "outputs": [
        {
          "output_type": "stream",
          "name": "stdout",
          "text": [
            "[4.37054497e+06 5.70821578e+05 3.99720848e+06 5.71355516e+06\n",
            " 2.64279713e+05 3.33331703e+05 1.16848626e+06 8.29465256e+05\n",
            " 1.87292569e+06 5.48456744e+05 3.48369466e+06 1.57634240e+07\n",
            " 2.00552141e+05 5.52775215e+06 0.00000000e+00 2.40373396e+06\n",
            " 2.69756993e+06 5.28532340e+05 1.04100000e+04 3.37707881e+06\n",
            " 5.16226368e+06 1.32530160e+07 1.80049909e+06 2.45214791e+05\n",
            " 3.18049865e+05]\n"
          ]
        }
      ]
    }
  ]
}